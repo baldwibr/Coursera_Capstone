{
  "nbformat": 4,
  "nbformat_minor": 0,
  "metadata": {
    "colab": {
      "provenance": [],
      "authorship_tag": "ABX9TyPldBwUfZgaBC9ogU40xdah",
      "include_colab_link": true
    },
    "kernelspec": {
      "name": "python3",
      "display_name": "Python 3"
    },
    "language_info": {
      "name": "python"
    }
  },
  "cells": [
    {
      "cell_type": "markdown",
      "metadata": {
        "id": "view-in-github",
        "colab_type": "text"
      },
      "source": [
        "<a href=\"https://colab.research.google.com/github/baldwibr/Coursera_Capstone/blob/main/MATH_M366_HW_CH3.ipynb\" target=\"_parent\"><img src=\"https://colab.research.google.com/assets/colab-badge.svg\" alt=\"Open In Colab\"/></a>"
      ]
    },
    {
      "cell_type": "code",
      "execution_count": null,
      "metadata": {
        "id": "nd4IBDuY72pU"
      },
      "outputs": [],
      "source": []
    },
    {
      "cell_type": "markdown",
      "source": [
        "# Homework Section 3"
      ],
      "metadata": {
        "id": "lvex8CTX79rh"
      }
    },
    {
      "cell_type": "markdown",
      "source": [
        "Question 8"
      ],
      "metadata": {
        "id": "5GF4JhnhTvGI"
      }
    },
    {
      "cell_type": "code",
      "source": [
        "9*10*10*10*5"
      ],
      "metadata": {
        "colab": {
          "base_uri": "https://localhost:8080/"
        },
        "id": "fd5WVK-p8DwG",
        "outputId": "7c371242-b81d-4839-b4aa-d03ea4d1b845"
      },
      "execution_count": 1,
      "outputs": [
        {
          "output_type": "execute_result",
          "data": {
            "text/plain": [
              "45000"
            ]
          },
          "metadata": {},
          "execution_count": 1
        }
      ]
    },
    {
      "cell_type": "markdown",
      "source": [
        "Section 3.3 Question 5"
      ],
      "metadata": {
        "id": "o3lW4D1kVpSD"
      }
    },
    {
      "cell_type": "markdown",
      "source": [
        "A class has 50 students. Of these, 13 students are physics majors and 15 students are female. Of the physics students, 5 are female. Find the probablility of a randomly selected student is a physics student or female."
      ],
      "metadata": {
        "id": "PDfLzbr1WBLg"
      }
    },
    {
      "cell_type": "code",
      "source": [
        "physics_majors = 13/50\n",
        "female_students = 15/50\n",
        "female_physics_students = 5/50\n",
        "\n",
        "prob = physics_majors + female_students - (female_physics_students)\n",
        "print(prob.__round__(3))"
      ],
      "metadata": {
        "colab": {
          "base_uri": "https://localhost:8080/"
        },
        "id": "GA7h2lQTVsfk",
        "outputId": "d23b728c-f16b-4257-9aca-6cc130f67144"
      },
      "execution_count": 4,
      "outputs": [
        {
          "output_type": "stream",
          "name": "stdout",
          "text": [
            "0.46\n"
          ]
        }
      ]
    },
    {
      "cell_type": "code",
      "source": [],
      "metadata": {
        "id": "wGqqqrdWXRNH"
      },
      "execution_count": null,
      "outputs": []
    },
    {
      "cell_type": "markdown",
      "source": [
        "Question 6\n",
        "\n",
        "Of the cartons a company produces, 4% have a puncture, 9% have a smashed corner, and 0.4% have both."
      ],
      "metadata": {
        "id": "A_AVPv7KXvd1"
      }
    },
    {
      "cell_type": "code",
      "source": [
        "puncture = .04\n",
        "smashed_corner = .09\n",
        "both = .004\n",
        "\n",
        "prob2 = puncture + smashed_corner - both\n",
        "print(prob2)"
      ],
      "metadata": {
        "colab": {
          "base_uri": "https://localhost:8080/"
        },
        "id": "Y1EGBYAUYB_8",
        "outputId": "165860c2-08b3-469c-8978-b444a528e1e4"
      },
      "execution_count": 5,
      "outputs": [
        {
          "output_type": "stream",
          "name": "stdout",
          "text": [
            "0.126\n"
          ]
        }
      ]
    },
    {
      "cell_type": "code",
      "source": [
        "(4/6).__round__(3)"
      ],
      "metadata": {
        "colab": {
          "base_uri": "https://localhost:8080/"
        },
        "id": "Ac3xGqwfYdV2",
        "outputId": "73b92a3e-4bff-43ad-b054-cf308a4682f4"
      },
      "execution_count": 8,
      "outputs": [
        {
          "output_type": "execute_result",
          "data": {
            "text/plain": [
              "0.667"
            ]
          },
          "metadata": {},
          "execution_count": 8
        }
      ]
    },
    {
      "cell_type": "code",
      "source": [
        "import numpy as np\n",
        "\n",
        "survey = np.array([542,341,314,257])\n",
        "\n",
        "1 - (survey[1]/survey.sum()).__round__(3)"
      ],
      "metadata": {
        "colab": {
          "base_uri": "https://localhost:8080/"
        },
        "id": "GOUTK6Etj-RI",
        "outputId": "e886a2de-5840-4a31-e936-2571abacc3f1"
      },
      "execution_count": 12,
      "outputs": [
        {
          "output_type": "execute_result",
          "data": {
            "text/plain": [
              "0.765"
            ]
          },
          "metadata": {},
          "execution_count": 12
        }
      ]
    },
    {
      "cell_type": "code",
      "source": [
        "((survey[1] + survey[3]) / survey.sum()).__round__(3)"
      ],
      "metadata": {
        "colab": {
          "base_uri": "https://localhost:8080/"
        },
        "id": "_n1kO5NUkoR4",
        "outputId": "8990e281-7383-45b2-a9c2-b8afa148209e"
      },
      "execution_count": 15,
      "outputs": [
        {
          "output_type": "execute_result",
          "data": {
            "text/plain": [
              "0.411"
            ]
          },
          "metadata": {},
          "execution_count": 15
        }
      ]
    },
    {
      "cell_type": "code",
      "source": [
        "((survey[0] + survey[2]) / survey.sum()).__round__(3)"
      ],
      "metadata": {
        "colab": {
          "base_uri": "https://localhost:8080/"
        },
        "id": "T8_UU4ADlpyU",
        "outputId": "46535b18-ac46-4081-fb3d-94d522aedd94"
      },
      "execution_count": 16,
      "outputs": [
        {
          "output_type": "execute_result",
          "data": {
            "text/plain": [
              "0.589"
            ]
          },
          "metadata": {},
          "execution_count": 16
        }
      ]
    },
    {
      "cell_type": "code",
      "source": [
        "((survey[2] + survey[3]) / survey.sum()).__round__(3)"
      ],
      "metadata": {
        "colab": {
          "base_uri": "https://localhost:8080/"
        },
        "id": "en5oE6kamfGz",
        "outputId": "11334f60-8607-4ba6-d05f-c67dcae8bd55"
      },
      "execution_count": 17,
      "outputs": [
        {
          "output_type": "execute_result",
          "data": {
            "text/plain": [
              "0.393"
            ]
          },
          "metadata": {},
          "execution_count": 17
        }
      ]
    },
    {
      "cell_type": "code",
      "source": [],
      "metadata": {
        "id": "1B5Xdaxemn4R"
      },
      "execution_count": null,
      "outputs": []
    },
    {
      "cell_type": "markdown",
      "source": [
        "Question 9"
      ],
      "metadata": {
        "id": "42X3y-oam3vR"
      }
    },
    {
      "cell_type": "code",
      "source": [
        "import pandas as pd\n",
        "from io import StringIO\n",
        "\n",
        "data20 = StringIO('''\n",
        ",Degrees in Field,Degrees Outside of Field,Total\n",
        "Males,177382,600354,777736\n",
        "Females,151280,893070,1044350\n",
        "Total,328662,1493424,1822086\n",
        "''')\n",
        "df20 = pd.read_csv(data20,sep=',',index_col=0)\n",
        "df20"
      ],
      "metadata": {
        "colab": {
          "base_uri": "https://localhost:8080/",
          "height": 142
        },
        "id": "fdziP7vwm5vm",
        "outputId": "379ce664-cacd-4e9a-ece8-9552d64ba6dd"
      },
      "execution_count": 26,
      "outputs": [
        {
          "output_type": "execute_result",
          "data": {
            "text/plain": [
              "         Degrees in Field  Degrees Outside of Field    Total\n",
              "Males              177382                    600354   777736\n",
              "Females            151280                    893070  1044350\n",
              "Total              328662                   1493424  1822086"
            ],
            "text/html": [
              "\n",
              "  <div id=\"df-c8e4a5f0-2cb5-43c5-aedd-116d3adfdc6b\">\n",
              "    <div class=\"colab-df-container\">\n",
              "      <div>\n",
              "<style scoped>\n",
              "    .dataframe tbody tr th:only-of-type {\n",
              "        vertical-align: middle;\n",
              "    }\n",
              "\n",
              "    .dataframe tbody tr th {\n",
              "        vertical-align: top;\n",
              "    }\n",
              "\n",
              "    .dataframe thead th {\n",
              "        text-align: right;\n",
              "    }\n",
              "</style>\n",
              "<table border=\"1\" class=\"dataframe\">\n",
              "  <thead>\n",
              "    <tr style=\"text-align: right;\">\n",
              "      <th></th>\n",
              "      <th>Degrees in Field</th>\n",
              "      <th>Degrees Outside of Field</th>\n",
              "      <th>Total</th>\n",
              "    </tr>\n",
              "  </thead>\n",
              "  <tbody>\n",
              "    <tr>\n",
              "      <th>Males</th>\n",
              "      <td>177382</td>\n",
              "      <td>600354</td>\n",
              "      <td>777736</td>\n",
              "    </tr>\n",
              "    <tr>\n",
              "      <th>Females</th>\n",
              "      <td>151280</td>\n",
              "      <td>893070</td>\n",
              "      <td>1044350</td>\n",
              "    </tr>\n",
              "    <tr>\n",
              "      <th>Total</th>\n",
              "      <td>328662</td>\n",
              "      <td>1493424</td>\n",
              "      <td>1822086</td>\n",
              "    </tr>\n",
              "  </tbody>\n",
              "</table>\n",
              "</div>\n",
              "      <button class=\"colab-df-convert\" onclick=\"convertToInteractive('df-c8e4a5f0-2cb5-43c5-aedd-116d3adfdc6b')\"\n",
              "              title=\"Convert this dataframe to an interactive table.\"\n",
              "              style=\"display:none;\">\n",
              "        \n",
              "  <svg xmlns=\"http://www.w3.org/2000/svg\" height=\"24px\"viewBox=\"0 0 24 24\"\n",
              "       width=\"24px\">\n",
              "    <path d=\"M0 0h24v24H0V0z\" fill=\"none\"/>\n",
              "    <path d=\"M18.56 5.44l.94 2.06.94-2.06 2.06-.94-2.06-.94-.94-2.06-.94 2.06-2.06.94zm-11 1L8.5 8.5l.94-2.06 2.06-.94-2.06-.94L8.5 2.5l-.94 2.06-2.06.94zm10 10l.94 2.06.94-2.06 2.06-.94-2.06-.94-.94-2.06-.94 2.06-2.06.94z\"/><path d=\"M17.41 7.96l-1.37-1.37c-.4-.4-.92-.59-1.43-.59-.52 0-1.04.2-1.43.59L10.3 9.45l-7.72 7.72c-.78.78-.78 2.05 0 2.83L4 21.41c.39.39.9.59 1.41.59.51 0 1.02-.2 1.41-.59l7.78-7.78 2.81-2.81c.8-.78.8-2.07 0-2.86zM5.41 20L4 18.59l7.72-7.72 1.47 1.35L5.41 20z\"/>\n",
              "  </svg>\n",
              "      </button>\n",
              "      \n",
              "  <style>\n",
              "    .colab-df-container {\n",
              "      display:flex;\n",
              "      flex-wrap:wrap;\n",
              "      gap: 12px;\n",
              "    }\n",
              "\n",
              "    .colab-df-convert {\n",
              "      background-color: #E8F0FE;\n",
              "      border: none;\n",
              "      border-radius: 50%;\n",
              "      cursor: pointer;\n",
              "      display: none;\n",
              "      fill: #1967D2;\n",
              "      height: 32px;\n",
              "      padding: 0 0 0 0;\n",
              "      width: 32px;\n",
              "    }\n",
              "\n",
              "    .colab-df-convert:hover {\n",
              "      background-color: #E2EBFA;\n",
              "      box-shadow: 0px 1px 2px rgba(60, 64, 67, 0.3), 0px 1px 3px 1px rgba(60, 64, 67, 0.15);\n",
              "      fill: #174EA6;\n",
              "    }\n",
              "\n",
              "    [theme=dark] .colab-df-convert {\n",
              "      background-color: #3B4455;\n",
              "      fill: #D2E3FC;\n",
              "    }\n",
              "\n",
              "    [theme=dark] .colab-df-convert:hover {\n",
              "      background-color: #434B5C;\n",
              "      box-shadow: 0px 1px 3px 1px rgba(0, 0, 0, 0.15);\n",
              "      filter: drop-shadow(0px 1px 2px rgba(0, 0, 0, 0.3));\n",
              "      fill: #FFFFFF;\n",
              "    }\n",
              "  </style>\n",
              "\n",
              "      <script>\n",
              "        const buttonEl =\n",
              "          document.querySelector('#df-c8e4a5f0-2cb5-43c5-aedd-116d3adfdc6b button.colab-df-convert');\n",
              "        buttonEl.style.display =\n",
              "          google.colab.kernel.accessAllowed ? 'block' : 'none';\n",
              "\n",
              "        async function convertToInteractive(key) {\n",
              "          const element = document.querySelector('#df-c8e4a5f0-2cb5-43c5-aedd-116d3adfdc6b');\n",
              "          const dataTable =\n",
              "            await google.colab.kernel.invokeFunction('convertToInteractive',\n",
              "                                                     [key], {});\n",
              "          if (!dataTable) return;\n",
              "\n",
              "          const docLinkHtml = 'Like what you see? Visit the ' +\n",
              "            '<a target=\"_blank\" href=https://colab.research.google.com/notebooks/data_table.ipynb>data table notebook</a>'\n",
              "            + ' to learn more about interactive tables.';\n",
              "          element.innerHTML = '';\n",
              "          dataTable['output_type'] = 'display_data';\n",
              "          await google.colab.output.renderOutput(dataTable, element);\n",
              "          const docLink = document.createElement('div');\n",
              "          docLink.innerHTML = docLinkHtml;\n",
              "          element.appendChild(docLink);\n",
              "        }\n",
              "      </script>\n",
              "    </div>\n",
              "  </div>\n",
              "  "
            ]
          },
          "metadata": {},
          "execution_count": 26
        }
      ]
    },
    {
      "cell_type": "code",
      "source": [
        "prob_degree_in_field = (df20.loc['Total','Degrees in Field'] / df20.loc['Total','Total'])\n",
        "prob_male = (df20.loc['Males','Total'] / df20.loc['Total','Total'])\n",
        "prob_male_degree_in_field = (df20.loc['Males','Degrees in Field']) / df20.loc['Total','Total']\n",
        "(prob_degree_in_field + prob_male - prob_male_degree_in_field).__round__(3)"
      ],
      "metadata": {
        "colab": {
          "base_uri": "https://localhost:8080/"
        },
        "id": "Pb5ZpLSknTpL",
        "outputId": "251c5429-8be4-4932-8edd-7494aa848af0"
      },
      "execution_count": 29,
      "outputs": [
        {
          "output_type": "execute_result",
          "data": {
            "text/plain": [
              "0.51"
            ]
          },
          "metadata": {},
          "execution_count": 29
        }
      ]
    },
    {
      "cell_type": "code",
      "source": [
        "prob_degree_outside_field = (df20.loc['Total','Degrees Outside of Field'] / df20.loc['Total','Total'])\n",
        "prob_female = (df20.loc['Females','Total'] / df20.loc['Total','Total'])\n",
        "prob_female_degree_outside_field = (df20.loc['Females','Degrees Outside of Field']) / df20.loc['Total','Total']\n",
        "(prob_degree_outside_field + prob_female - prob_female_degree_outside_field).__round__(3)"
      ],
      "metadata": {
        "colab": {
          "base_uri": "https://localhost:8080/"
        },
        "id": "g8fFxjw6noxK",
        "outputId": "a2b4bbd1-9ece-471a-a18a-213f87fdd83c"
      },
      "execution_count": 30,
      "outputs": [
        {
          "output_type": "execute_result",
          "data": {
            "text/plain": [
              "0.903"
            ]
          },
          "metadata": {},
          "execution_count": 30
        }
      ]
    },
    {
      "cell_type": "code",
      "source": [
        "prob_male_degree_outside_field = (df20.loc['Males','Degrees Outside of Field']) / df20.loc['Total','Total']\n",
        "(prob_male + prob_degree_outside_field - prob_male_degree_outside_field).__round__(3)"
      ],
      "metadata": {
        "colab": {
          "base_uri": "https://localhost:8080/"
        },
        "id": "VhyFg96tqPSg",
        "outputId": "6def7157-751d-4b8d-fecd-11cfdc0a8d6c"
      },
      "execution_count": 31,
      "outputs": [
        {
          "output_type": "execute_result",
          "data": {
            "text/plain": [
              "0.917"
            ]
          },
          "metadata": {},
          "execution_count": 31
        }
      ]
    },
    {
      "cell_type": "code",
      "source": [],
      "metadata": {
        "id": "XyK3nhO7qtvD"
      },
      "execution_count": null,
      "outputs": []
    }
  ]
}