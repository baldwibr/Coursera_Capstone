{
 "metadata": {
  "language_info": {
   "codemirror_mode": {
    "name": "ipython",
    "version": 3
   },
   "file_extension": ".py",
   "mimetype": "text/x-python",
   "name": "python",
   "nbconvert_exporter": "python",
   "pygments_lexer": "ipython3",
   "version": "3.8.3-final"
  },
  "orig_nbformat": 2,
  "kernelspec": {
   "name": "python3",
   "display_name": "Python 3",
   "language": "python"
  }
 },
 "nbformat": 4,
 "nbformat_minor": 2,
 "cells": [
  {
   "source": [
    "# Week 1"
   ],
   "cell_type": "markdown",
   "metadata": {}
  },
  {
   "cell_type": "code",
   "execution_count": 1,
   "metadata": {},
   "outputs": [],
   "source": [
    "def l2_dist(a, b):\n",
    "    result = ((a - b) * (a - b)).sum()\n",
    "    result = result ** 0.5\n",
    "    return result"
   ]
  },
  {
   "cell_type": "code",
   "execution_count": 2,
   "metadata": {},
   "outputs": [],
   "source": [
    "import numpy as np\n",
    "a = np.random.rand(20,20)\n",
    "b= np.random.rand(20,20)"
   ]
  },
  {
   "cell_type": "code",
   "execution_count": 3,
   "metadata": {},
   "outputs": [
    {
     "output_type": "execute_result",
     "data": {
      "text/plain": [
       "8.054003793541733"
      ]
     },
     "metadata": {},
     "execution_count": 3
    }
   ],
   "source": [
    "#l2_dist(np.reshape(a,(20*20)),np.reshape(b,(20*20,1)))\n",
    "#l2_dist(np.reshape(a,(20*20)),np.reshape(b,(20*20)))\n",
    "#l2_dist(a.T,b.T)\n",
    "l2_dist(a,b)"
   ]
  },
  {
   "cell_type": "code",
   "execution_count": 4,
   "metadata": {},
   "outputs": [],
   "source": [
    "a1 = np.random.rand(4)\n",
    "a2=np.random.rand(4,1)\n",
    "a3=np.array([[1,2,3,4]])\n",
    "a4=np.arange(1,4,1)\n",
    "a5=np.linspace(1,4,4)"
   ]
  },
  {
   "cell_type": "code",
   "execution_count": 5,
   "metadata": {},
   "outputs": [
    {
     "output_type": "execute_result",
     "data": {
      "text/plain": [
       "True"
      ]
     },
     "metadata": {},
     "execution_count": 5
    }
   ],
   "source": [
    "a5.shape == a1.shape"
   ]
  },
  {
   "cell_type": "code",
   "execution_count": 6,
   "metadata": {},
   "outputs": [
    {
     "output_type": "execute_result",
     "data": {
      "text/plain": [
       "False"
      ]
     },
     "metadata": {},
     "execution_count": 6
    }
   ],
   "source": [
    "a1.shape == a2.shape"
   ]
  },
  {
   "cell_type": "code",
   "execution_count": 7,
   "metadata": {},
   "outputs": [
    {
     "output_type": "execute_result",
     "data": {
      "text/plain": [
       "False"
      ]
     },
     "metadata": {},
     "execution_count": 7
    }
   ],
   "source": [
    "a3.shape == a4.shape"
   ]
  },
  {
   "cell_type": "code",
   "execution_count": 8,
   "metadata": {},
   "outputs": [
    {
     "output_type": "stream",
     "name": "stdout",
     "text": [
      "[[0 0 1]\n [1 1 1]]\n"
     ]
    }
   ],
   "source": [
    "import numpy as np\n",
    "\n",
    "old = np.array([[1, 1, 1], [1, 1, 1]])\n",
    "new = old\n",
    "new[0, :2] = 0\n",
    "print(old)"
   ]
  },
  {
   "cell_type": "code",
   "execution_count": 9,
   "metadata": {},
   "outputs": [],
   "source": [
    "r = np.array([[0,1,2,3,4,5],[6,7,8,9,10,11],[12,13,14,15,16,17],[18,19,20,21,22,23],[24,25,26,27,28,29],[30,31,32,33,34,35]])"
   ]
  },
  {
   "cell_type": "code",
   "execution_count": 10,
   "metadata": {},
   "outputs": [
    {
     "output_type": "execute_result",
     "data": {
      "text/plain": [
       "array([14, 28])"
      ]
     },
     "metadata": {},
     "execution_count": 10
    }
   ],
   "source": [
    "r[[2,4],[2,4]]"
   ]
  },
  {
   "cell_type": "code",
   "execution_count": 11,
   "metadata": {},
   "outputs": [],
   "source": [
    "import re\n",
    "s = 'ACBCAC'"
   ]
  },
  {
   "cell_type": "code",
   "execution_count": 12,
   "metadata": {},
   "outputs": [
    {
     "output_type": "execute_result",
     "data": {
      "text/plain": [
       "['AC']"
      ]
     },
     "metadata": {},
     "execution_count": 12
    }
   ],
   "source": [
    "re.findall('^AC', s)"
   ]
  },
  {
   "cell_type": "code",
   "execution_count": 13,
   "metadata": {},
   "outputs": [
    {
     "output_type": "execute_result",
     "data": {
      "text/plain": [
       "['BC']"
      ]
     },
     "metadata": {},
     "execution_count": 13
    }
   ],
   "source": [
    "re.findall('[^A]C', s)"
   ]
  },
  {
   "cell_type": "code",
   "execution_count": 14,
   "metadata": {},
   "outputs": [
    {
     "output_type": "execute_result",
     "data": {
      "text/plain": [
       "['A']"
      ]
     },
     "metadata": {},
     "execution_count": 14
    }
   ],
   "source": [
    "re.findall('^[AC]', s)"
   ]
  },
  {
   "cell_type": "code",
   "execution_count": 15,
   "metadata": {},
   "outputs": [
    {
     "output_type": "execute_result",
     "data": {
      "text/plain": [
       "['A', 'A']"
      ]
     },
     "metadata": {},
     "execution_count": 15
    }
   ],
   "source": [
    "re.findall('[A]', s)"
   ]
  },
  {
   "cell_type": "code",
   "execution_count": 16,
   "metadata": {},
   "outputs": [
    {
     "output_type": "stream",
     "name": "stdout",
     "text": [
      "5\n"
     ]
    }
   ],
   "source": [
    "s = 'ACAABAACAAAB'\n",
    "result = re.findall('A{1,2}', s)\n",
    "L = len(result)\n",
    "print(L)"
   ]
  },
  {
   "cell_type": "code",
   "execution_count": 17,
   "metadata": {},
   "outputs": [],
   "source": [
    "text = 'Office of Research Administration: (734) 647-6333 | 4325 North Quad Office of Budget and Financial Administration: (734) 647-8044 | 309 Maynard, Suite 205 Health Informatics Program: (734) 763-2285 | 333 Maynard, Suite 500 Office of the Dean: (734) 647-3576 | 4322 North Quad UMSI Engagement Center: (734) 763-1251 | 777 North University Faculty Adminstrative Support Staff: (734) 764-9376 | 4322 North Quad'"
   ]
  },
  {
   "cell_type": "code",
   "execution_count": 18,
   "metadata": {},
   "outputs": [
    {
     "output_type": "execute_result",
     "data": {
      "text/plain": [
       "['(734) 647-6333',\n",
       " '(734) 647-8044',\n",
       " '(734) 763-2285',\n",
       " '(734) 647-3576',\n",
       " '(734) 763-1251',\n",
       " '(734) 764-9376']"
      ]
     },
     "metadata": {},
     "execution_count": 18
    }
   ],
   "source": [
    "re.findall(\"[(]\\d{3}[)]\\s\\d{3}[-]\\d{4}\", text)"
   ]
  },
  {
   "cell_type": "code",
   "execution_count": 19,
   "metadata": {},
   "outputs": [],
   "source": [
    "text2 = 'I refer to https://google.com and I never refer http://www.baidu.com if I have to search anything'"
   ]
  },
  {
   "cell_type": "code",
   "execution_count": 20,
   "metadata": {},
   "outputs": [
    {
     "output_type": "execute_result",
     "data": {
      "text/plain": [
       "['google.com', 'www.baidu.com']"
      ]
     },
     "metadata": {},
     "execution_count": 20
    }
   ],
   "source": [
    "re.findall(\"(?<=[https]:\\/\\/)([A-Za-z0-9.]*)\", text2)"
   ]
  },
  {
   "cell_type": "code",
   "execution_count": 21,
   "metadata": {},
   "outputs": [],
   "source": [
    "text=r'''Everyone has the following fundamental freedoms:\n",
    "(a) freedom of conscience and religion;\n",
    "(b) freedom of thought, belief, opinion and expression, including freedom of the press and other media of communication;\n",
    "(c) freedom of peaceful assembly; and\n",
    "(d) freedom of association.\n",
    "'''"
   ]
  },
  {
   "cell_type": "code",
   "execution_count": 22,
   "metadata": {},
   "outputs": [
    {
     "output_type": "stream",
     "name": "stdout",
     "text": [
      "40\n"
     ]
    }
   ],
   "source": [
    "pattern = '[a-d]'\n",
    "print(len(re.findall(pattern,text)))"
   ]
  },
  {
   "cell_type": "code",
   "execution_count": 23,
   "metadata": {},
   "outputs": [],
   "source": [
    "simple_string = \"\"\"Amy is 5 years old, and her sister Mary is 2 years old. \n",
    "    Ruth and Peter, their parents, have 3 kids.\"\"\""
   ]
  },
  {
   "cell_type": "code",
   "execution_count": 24,
   "metadata": {},
   "outputs": [
    {
     "output_type": "execute_result",
     "data": {
      "text/plain": [
       "['Amy', 'Mary', 'Ruth', 'Peter']"
      ]
     },
     "metadata": {},
     "execution_count": 24
    }
   ],
   "source": [
    "re.findall(\"[A-Z][a-z]*\", simple_string)"
   ]
  },
  {
   "cell_type": "code",
   "execution_count": 25,
   "metadata": {},
   "outputs": [],
   "source": [
    "import re\n",
    "def names():\n",
    "    simple_string = \"\"\"Amy is 5 years old, and her sister Mary is 2 years old. \n",
    "    Ruth and Peter, their parents, have 3 kids.\"\"\"\n",
    "\n",
    "    result = re.findall(\"[A-Z][a-z]*\", simple_string)\n",
    "    return result\n",
    "    #raise NotImplementedError()"
   ]
  },
  {
   "cell_type": "code",
   "execution_count": 26,
   "metadata": {},
   "outputs": [
    {
     "output_type": "execute_result",
     "data": {
      "text/plain": [
       "['Amy', 'Mary', 'Ruth', 'Peter']"
      ]
     },
     "metadata": {},
     "execution_count": 26
    }
   ],
   "source": [
    "names()"
   ]
  },
  {
   "cell_type": "code",
   "execution_count": 27,
   "metadata": {},
   "outputs": [],
   "source": [
    "assert len(names()) == 4, \"There are four names in the simple_string\""
   ]
  },
  {
   "cell_type": "code",
   "execution_count": 28,
   "metadata": {},
   "outputs": [],
   "source": [
    "grades = '''Ronald Mayr: A\n",
    "Bell Kassulke: B\n",
    "Jacqueline Rupp: A \n",
    "Alexander Zeller: C\n",
    "Valentina Denk: C \n",
    "Simon Loidl: B \n",
    "Elias Jovanovic: B \n",
    "Stefanie Weninger: A \n",
    "Fabian Peer: C \n",
    "Hakim Botros: B\n",
    "Emilie Lorentsen: B\n",
    "Herman Karlsen: C\n",
    "Nathalie Delacruz: C\n",
    "Casey Hartman: C\n",
    "Lily Walker : A\n",
    "Gerard Wang: C\n",
    "Tony Mcdowell: C\n",
    "Jake Wood: B\n",
    "Fatemeh Akhtar: B\n",
    "Kim Weston: B\n",
    "Nicholas Beatty: A\n",
    "Kirsten Williams: C\n",
    "Vaishali Surana: C\n",
    "Coby Mccormack: C\n",
    "Yasmin Dar: B\n",
    "Romy Donnelly: A\n",
    "Viswamitra Upandhye: B\n",
    "Kendrick Hilpert: A\n",
    "Killian Kaufman: B\n",
    "Elwood Page: B\n",
    "Mukti Patel: A\n",
    "Emily Lesch: C\n",
    "Elodie Booker: B\n",
    "Jedd Kim: A\n",
    "Annabel Davies: A\n",
    "Adnan Chen: B\n",
    "Jonathan Berg: C\n",
    "Hank Spinka: B\n",
    "Agnes Schneider: C\n",
    "Kimberly Green: A\n",
    "Lola-Rose Coates: C\n",
    "Rose Christiansen: C\n",
    "Shirley Hintz: C\n",
    "Hannah Bayer: B\n",
    "'''"
   ]
  },
  {
   "cell_type": "code",
   "execution_count": 29,
   "metadata": {},
   "outputs": [
    {
     "output_type": "execute_result",
     "data": {
      "text/plain": [
       "['Bell Kassulke: B',\n",
       " 'Simon Loidl: B',\n",
       " 'Elias Jovanovic: B',\n",
       " 'Hakim Botros: B',\n",
       " 'Emilie Lorentsen: B',\n",
       " 'Jake Wood: B',\n",
       " 'Fatemeh Akhtar: B',\n",
       " 'Kim Weston: B',\n",
       " 'Yasmin Dar: B',\n",
       " 'Viswamitra Upandhye: B',\n",
       " 'Killian Kaufman: B',\n",
       " 'Elwood Page: B',\n",
       " 'Elodie Booker: B',\n",
       " 'Adnan Chen: B',\n",
       " 'Hank Spinka: B',\n",
       " 'Hannah Bayer: B']"
      ]
     },
     "metadata": {},
     "execution_count": 29
    }
   ],
   "source": [
    "re.findall(\"[A-Z][a-z]*\\s[A-Z][a-z]*\\:\\s[B]\", grades)"
   ]
  },
  {
   "cell_type": "code",
   "execution_count": 123,
   "metadata": {},
   "outputs": [],
   "source": [
    "def grades():\n",
    "    grades = '''Ronald Mayr: A\n",
    "Bell Kassulke: B\n",
    "Jacqueline Rupp: A \n",
    "Alexander Zeller: C\n",
    "Valentina Denk: C \n",
    "Simon Loidl: B \n",
    "Elias Jovanovic: B \n",
    "Stefanie Weninger: A \n",
    "Fabian Peer: C \n",
    "Hakim Botros: B\n",
    "Emilie Lorentsen: B\n",
    "Herman Karlsen: C\n",
    "Nathalie Delacruz: C\n",
    "Casey Hartman: C\n",
    "Lily Walker : A\n",
    "Gerard Wang: C\n",
    "Tony Mcdowell: C\n",
    "Jake Wood: B\n",
    "Fatemeh Akhtar: B\n",
    "Kim Weston: B\n",
    "Nicholas Beatty: A\n",
    "Kirsten Williams: C\n",
    "Vaishali Surana: C\n",
    "Coby Mccormack: C\n",
    "Yasmin Dar: B\n",
    "Romy Donnelly: A\n",
    "Viswamitra Upandhye: B\n",
    "Kendrick Hilpert: A\n",
    "Killian Kaufman: B\n",
    "Elwood Page: B\n",
    "Mukti Patel: A\n",
    "Emily Lesch: C\n",
    "Elodie Booker: B\n",
    "Jedd Kim: A\n",
    "Annabel Davies: A\n",
    "Adnan Chen: B\n",
    "Jonathan Berg: C\n",
    "Hank Spinka: B\n",
    "Agnes Schneider: C\n",
    "Kimberly Green: A\n",
    "Lola-Rose Coates: C\n",
    "Rose Christiansen: C\n",
    "Shirley Hintz: C\n",
    "Hannah Bayer: B\n",
    "'''\n",
    "\n",
    "    result = re.findall(\"(\\w*\\s\\w*)\\:\\s[B]\", grades)\n",
    "    return result\n",
    "    #raise NotImplementedError()"
   ]
  },
  {
   "cell_type": "code",
   "execution_count": 124,
   "metadata": {},
   "outputs": [],
   "source": [
    "assert len(grades()) == 16"
   ]
  },
  {
   "cell_type": "code",
   "execution_count": 125,
   "metadata": {},
   "outputs": [
    {
     "output_type": "stream",
     "name": "stdout",
     "text": [
      "['Bell Kassulke', 'Simon Loidl', 'Elias Jovanovic', 'Hakim Botros', 'Emilie Lorentsen', 'Jake Wood', 'Fatemeh Akhtar', 'Kim Weston', 'Yasmin Dar', 'Viswamitra Upandhye', 'Killian Kaufman', 'Elwood Page', 'Elodie Booker', 'Adnan Chen', 'Hank Spinka', 'Hannah Bayer']\n"
     ]
    }
   ],
   "source": [
    "print(grades())"
   ]
  },
  {
   "cell_type": "code",
   "execution_count": 32,
   "metadata": {},
   "outputs": [],
   "source": [
    "with open(r\"C:\\Users\\e3dy0\\Downloads\\logdata.txt\", \"r\") as file:\n",
    "        logdata = file.read()"
   ]
  },
  {
   "cell_type": "code",
   "execution_count": 53,
   "metadata": {},
   "outputs": [],
   "source": [
    "host = re.findall(\"(?P<host>\\d{1,3}\\.\\d{1,3}\\.\\d{1,3}\\.\\d{1,3})\", logdata)"
   ]
  },
  {
   "cell_type": "code",
   "execution_count": 54,
   "metadata": {},
   "outputs": [
    {
     "output_type": "stream",
     "name": "stdout",
     "text": [
      "979\n"
     ]
    }
   ],
   "source": [
    "print(len(host))"
   ]
  },
  {
   "cell_type": "code",
   "execution_count": 55,
   "metadata": {},
   "outputs": [],
   "source": [
    "user = re.findall(\"\\s\\-\\s(?P<user_name>.\\w*)\", logdata)"
   ]
  },
  {
   "cell_type": "code",
   "execution_count": 59,
   "metadata": {},
   "outputs": [
    {
     "output_type": "stream",
     "name": "stdout",
     "text": [
      "979\n"
     ]
    }
   ],
   "source": [
    "print(len(user))"
   ]
  },
  {
   "cell_type": "code",
   "execution_count": 58,
   "metadata": {},
   "outputs": [],
   "source": [
    "time = re.findall(\"(?P<time>\\[.*\\])\", logdata)"
   ]
  },
  {
   "cell_type": "code",
   "execution_count": 60,
   "metadata": {},
   "outputs": [
    {
     "output_type": "stream",
     "name": "stdout",
     "text": [
      "979\n"
     ]
    }
   ],
   "source": [
    "print(len(time))"
   ]
  },
  {
   "cell_type": "code",
   "execution_count": 61,
   "metadata": {},
   "outputs": [],
   "source": [
    "request = re.findall(\"\\\"(?P<request>.*)\\\"\", logdata)"
   ]
  },
  {
   "cell_type": "code",
   "execution_count": 64,
   "metadata": {
    "tags": []
   },
   "outputs": [
    {
     "output_type": "stream",
     "name": "stdout",
     "text": [
      "979\n"
     ]
    }
   ],
   "source": [
    "print(len(request))"
   ]
  },
  {
   "cell_type": "code",
   "execution_count": 66,
   "metadata": {},
   "outputs": [],
   "source": [
    "full_match = re.findall(\"(?P<host>\\d{1,3}\\.\\d{1,3}\\.\\d{1,3}\\.\\d{1,3})\\s\\-\\s(?P<user_name>.\\w*)\\s*(?P<time>\\[.*\\])\\s*\\\"(?P<request>.*)\\\"\", logdata)"
   ]
  },
  {
   "cell_type": "code",
   "execution_count": 114,
   "metadata": {},
   "outputs": [
    {
     "output_type": "error",
     "ename": "NameError",
     "evalue": "name 'result3' is not defined",
     "traceback": [
      "\u001b[1;31m---------------------------------------------------------------------------\u001b[0m",
      "\u001b[1;31mNameError\u001b[0m                                 Traceback (most recent call last)",
      "\u001b[1;32m<ipython-input-114-7914eece4730>\u001b[0m in \u001b[0;36m<module>\u001b[1;34m\u001b[0m\n\u001b[1;32m----> 1\u001b[1;33m \u001b[0mresult3\u001b[0m\u001b[1;33m.\u001b[0m\u001b[0mclear\u001b[0m\u001b[1;33m(\u001b[0m\u001b[1;33m)\u001b[0m\u001b[1;33m\u001b[0m\u001b[1;33m\u001b[0m\u001b[0m\n\u001b[0m",
      "\u001b[1;31mNameError\u001b[0m: name 'result3' is not defined"
     ]
    }
   ],
   "source": [
    "result"
   ]
  },
  {
   "cell_type": "code",
   "execution_count": 121,
   "metadata": {
    "tags": []
   },
   "outputs": [],
   "source": [
    "import re\n",
    "def logs():\n",
    "    with open(r\"C:\\Users\\e3dy0\\Downloads\\logdata.txt\", \"r\") as file:\n",
    "        logdata = file.read()\n",
    "        pattern=\"\"\"\n",
    "            (?P<host>\\d{1,3}\\.\\d{1,3}\\.\\d{1,3}\\.\\d{1,3})\n",
    "            \\s\\-\\s(?P<user_name>.\\w*)\n",
    "            \\s*\\[(?P<time>.*)\\]\\s*\n",
    "            \\\"(?P<request>.*)\\\"\n",
    "            \"\"\"\n",
    "        result = list()\n",
    "        for item in re.finditer(pattern,logdata,re.VERBOSE):\n",
    "            result.append(item.groupdict())\n",
    "    \n",
    "    return result"
   ]
  },
  {
   "cell_type": "code",
   "execution_count": 122,
   "metadata": {
    "tags": []
   },
   "outputs": [
    {
     "output_type": "stream",
     "name": "stdout",
     "text": [
      "979\n"
     ]
    }
   ],
   "source": [
    "print(len(logs()))"
   ]
  },
  {
   "source": [
    "# Week 2"
   ],
   "cell_type": "markdown",
   "metadata": {}
  },
  {
   "cell_type": "code",
   "execution_count": null,
   "metadata": {},
   "outputs": [],
   "source": []
  }
 ]
}