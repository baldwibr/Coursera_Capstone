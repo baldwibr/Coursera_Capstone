{
  "nbformat": 4,
  "nbformat_minor": 0,
  "metadata": {
    "colab": {
      "provenance": [],
      "authorship_tag": "ABX9TyMSO5mlJu+kcFBbgbgAJ/Cf",
      "include_colab_link": true
    },
    "kernelspec": {
      "name": "python3",
      "display_name": "Python 3"
    },
    "language_info": {
      "name": "python"
    }
  },
  "cells": [
    {
      "cell_type": "markdown",
      "metadata": {
        "id": "view-in-github",
        "colab_type": "text"
      },
      "source": [
        "<a href=\"https://colab.research.google.com/github/baldwibr/Coursera_Capstone/blob/main/2022-09-05_sec3_hw.ipynb\" target=\"_parent\"><img src=\"https://colab.research.google.com/assets/colab-badge.svg\" alt=\"Open In Colab\"/></a>"
      ]
    },
    {
      "cell_type": "code",
      "execution_count": null,
      "metadata": {
        "id": "nd4IBDuY72pU"
      },
      "outputs": [],
      "source": []
    },
    {
      "cell_type": "markdown",
      "source": [
        "# Homework Section 3"
      ],
      "metadata": {
        "id": "lvex8CTX79rh"
      }
    },
    {
      "cell_type": "code",
      "source": [],
      "metadata": {
        "id": "fd5WVK-p8DwG"
      },
      "execution_count": null,
      "outputs": []
    }
  ]
}